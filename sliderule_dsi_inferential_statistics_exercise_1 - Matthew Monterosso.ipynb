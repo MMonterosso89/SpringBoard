{
 "cells": [
  {
   "cell_type": "markdown",
   "metadata": {},
   "source": [
    "# What is the True Normal Human Body Temperature? \n",
    "\n",
    "#### Background\n",
    "\n",
    "The mean normal body temperature was held to be 37$^{\\circ}$C or 98.6$^{\\circ}$F for more than 120 years since it was first conceptualized and reported by Carl Wunderlich in a famous 1868 book. But, is this value statistically correct?"
   ]
  },
  {
   "cell_type": "markdown",
   "metadata": {},
   "source": [
    "<h3>Exercises</h3>\n",
    "\n",
    "<p>In this exercise, you will analyze a dataset of human body temperatures and employ the concepts of hypothesis testing, confidence intervals, and statistical significance.</p>\n",
    "\n",
    "<p>Answer the following questions <b>in this notebook below and submit to your Github account</b>.</p> \n",
    "\n",
    "<ol>\n",
    "<li>  Is the distribution of body temperatures normal? \n",
    "    <ul>\n",
    "    <li> Although this is not a requirement for CLT to hold (read CLT carefully), it gives us some peace of mind that the population may also be normally distributed if we assume that this sample is representative of the population.\n",
    "    </ul>\n",
    "<li>  Is the sample size large? Are the observations independent?\n",
    "    <ul>\n",
    "    <li> Remember that this is a condition for the CLT, and hence the statistical tests we are using, to apply.\n",
    "    </ul>\n",
    "<li>  Is the true population mean really 98.6 degrees F?\n",
    "    <ul>\n",
    "    <li> Would you use a one-sample or two-sample test? Why?\n",
    "    <li> In this situation, is it appropriate to use the $t$ or $z$ statistic? \n",
    "    <li> Now try using the other test. How is the result be different? Why?\n",
    "    </ul>\n",
    "<li>  Draw a small sample of size 10 from the data and repeat both tests. \n",
    "    <ul>\n",
    "    <li> Which one is the correct one to use? \n",
    "    <li> What do you notice? What does this tell you about the difference in application of the $t$ and $z$ statistic?\n",
    "    </ul>\n",
    "<li>  At what temperature should we consider someone's temperature to be \"abnormal\"?\n",
    "    <ul>\n",
    "    <li> Start by computing the margin of error and confidence interval.\n",
    "    </ul>\n",
    "<li>  Is there a significant difference between males and females in normal temperature?\n",
    "    <ul>\n",
    "    <li> What test did you use and why?\n",
    "    <li> Write a story with your conclusion in the context of the original problem.\n",
    "    </ul>\n",
    "</ol>\n",
    "\n",
    "You can include written notes in notebook cells using Markdown: \n",
    "   - In the control panel at the top, choose Cell > Cell Type > Markdown\n",
    "   - Markdown syntax: http://nestacms.com/docs/creating-content/markdown-cheat-sheet\n",
    "\n",
    "#### Resources\n",
    "\n",
    "+ Information and data sources: http://www.amstat.org/publications/jse/datasets/normtemp.txt, http://www.amstat.org/publications/jse/jse_data_archive.htm\n",
    "+ Markdown syntax: http://nestacms.com/docs/creating-content/markdown-cheat-sheet\n",
    "\n",
    "****"
   ]
  },
  {
   "cell_type": "code",
   "execution_count": 2,
   "metadata": {
    "collapsed": true
   },
   "outputs": [],
   "source": [
    "import pandas as pd\n",
    "import numpy as np\n",
    "import matplotlib.pyplot as plt\n",
    "\n",
    "df = pd.read_csv('human_body_temperature.csv')"
   ]
  },
  {
   "cell_type": "code",
   "execution_count": 3,
   "metadata": {
    "scrolled": true
   },
   "outputs": [
    {
     "name": "stdout",
     "output_type": "stream",
     "text": [
      "     temperature gender  heart_rate\n",
      "0           99.3      F        68.0\n",
      "1           98.4      F        81.0\n",
      "2           97.8      M        73.0\n",
      "3           99.2      F        66.0\n",
      "4           98.0      F        73.0\n",
      "5           99.2      M        83.0\n",
      "6           98.0      M        71.0\n",
      "7           98.8      M        78.0\n",
      "8           98.4      F        84.0\n",
      "9           98.6      F        86.0\n",
      "10          98.8      F        89.0\n",
      "11          96.7      F        62.0\n",
      "12          98.2      M        72.0\n",
      "13          98.7      F        79.0\n",
      "14          97.8      F        77.0\n",
      "15          98.8      F        83.0\n",
      "16          98.3      F        79.0\n",
      "17          98.2      M        64.0\n",
      "18          97.2      F        68.0\n",
      "19          99.4      M        70.0\n",
      "20          98.3      F        78.0\n",
      "21          98.2      M        71.0\n",
      "22          98.6      M        70.0\n",
      "23          98.4      M        68.0\n",
      "24          97.8      M        65.0\n",
      "25          98.0      F        87.0\n",
      "26          97.8      F        62.0\n",
      "27          98.2      F        69.0\n",
      "28          98.4      F        73.0\n",
      "29          98.1      M        67.0\n",
      "..           ...    ...         ...\n",
      "100         99.0      M        81.0\n",
      "101         98.5      M        68.0\n",
      "102         98.0      F        78.0\n",
      "103         99.4      F        77.0\n",
      "104         97.6      M        69.0\n",
      "105         96.7      M        71.0\n",
      "106         97.0      M        80.0\n",
      "107         98.6      M        66.0\n",
      "108         98.7      F        72.0\n",
      "109         97.3      M        69.0\n",
      "110         98.8      F        69.0\n",
      "111         98.0      F        89.0\n",
      "112         98.2      F        64.0\n",
      "113         99.1      F        74.0\n",
      "114         99.0      M        79.0\n",
      "115         98.0      M        64.0\n",
      "116        100.8      F        77.0\n",
      "117         97.8      F        71.0\n",
      "118         98.7      M        78.0\n",
      "119         98.4      F        74.0\n",
      "120         97.7      F        84.0\n",
      "121         97.9      F        68.0\n",
      "122         99.0      F        81.0\n",
      "123         97.2      F        66.0\n",
      "124         97.5      M        75.0\n",
      "125         96.3      M        70.0\n",
      "126         97.7      M        77.0\n",
      "127         98.2      F        73.0\n",
      "128         97.9      M        72.0\n",
      "129         98.7      F        59.0\n",
      "\n",
      "[130 rows x 3 columns]\n"
     ]
    }
   ],
   "source": [
    "print(df)\n",
    "#A simple plot shows that we have a sample size of 130 patients with 3 attributes of body temp, gender, and heart rate.\n"
   ]
  },
  {
   "cell_type": "markdown",
   "metadata": {},
   "source": [
    "#Next answer question 1:\n",
    "##Is the distribution of body temperatures normal?\n",
    "###Although this is not a requirement for CLT to hold (read CLT carefully), it gives us some peace of mind that the population may also be normally distributed if we assume that this sample is representative of the population."
   ]
  },
  {
   "cell_type": "code",
   "execution_count": 4,
   "metadata": {
    "scrolled": true
   },
   "outputs": [
    {
     "name": "stdout",
     "output_type": "stream",
     "text": [
      "   temperature gender  heart_rate\n",
      "0         99.3      F        68.0\n",
      "1         98.4      F        81.0\n",
      "2         97.8      M        73.0\n",
      "3         99.2      F        66.0\n",
      "4         98.0      F        73.0\n"
     ]
    },
    {
     "data": {
      "text/html": [
       "<div>\n",
       "<style>\n",
       "    .dataframe thead tr:only-child th {\n",
       "        text-align: right;\n",
       "    }\n",
       "\n",
       "    .dataframe thead th {\n",
       "        text-align: left;\n",
       "    }\n",
       "\n",
       "    .dataframe tbody tr th {\n",
       "        vertical-align: top;\n",
       "    }\n",
       "</style>\n",
       "<table border=\"1\" class=\"dataframe\">\n",
       "  <thead>\n",
       "    <tr style=\"text-align: right;\">\n",
       "      <th></th>\n",
       "      <th>temperature</th>\n",
       "      <th>heart_rate</th>\n",
       "    </tr>\n",
       "  </thead>\n",
       "  <tbody>\n",
       "    <tr>\n",
       "      <th>count</th>\n",
       "      <td>130.000000</td>\n",
       "      <td>130.000000</td>\n",
       "    </tr>\n",
       "    <tr>\n",
       "      <th>mean</th>\n",
       "      <td>98.249231</td>\n",
       "      <td>73.761538</td>\n",
       "    </tr>\n",
       "    <tr>\n",
       "      <th>std</th>\n",
       "      <td>0.733183</td>\n",
       "      <td>7.062077</td>\n",
       "    </tr>\n",
       "    <tr>\n",
       "      <th>min</th>\n",
       "      <td>96.300000</td>\n",
       "      <td>57.000000</td>\n",
       "    </tr>\n",
       "    <tr>\n",
       "      <th>25%</th>\n",
       "      <td>97.800000</td>\n",
       "      <td>69.000000</td>\n",
       "    </tr>\n",
       "    <tr>\n",
       "      <th>50%</th>\n",
       "      <td>98.300000</td>\n",
       "      <td>74.000000</td>\n",
       "    </tr>\n",
       "    <tr>\n",
       "      <th>75%</th>\n",
       "      <td>98.700000</td>\n",
       "      <td>79.000000</td>\n",
       "    </tr>\n",
       "    <tr>\n",
       "      <th>max</th>\n",
       "      <td>100.800000</td>\n",
       "      <td>89.000000</td>\n",
       "    </tr>\n",
       "  </tbody>\n",
       "</table>\n",
       "</div>"
      ],
      "text/plain": [
       "       temperature  heart_rate\n",
       "count   130.000000  130.000000\n",
       "mean     98.249231   73.761538\n",
       "std       0.733183    7.062077\n",
       "min      96.300000   57.000000\n",
       "25%      97.800000   69.000000\n",
       "50%      98.300000   74.000000\n",
       "75%      98.700000   79.000000\n",
       "max     100.800000   89.000000"
      ]
     },
     "execution_count": 4,
     "metadata": {},
     "output_type": "execute_result"
    }
   ],
   "source": [
    "print(df.head())\n",
    "df.describe()\n",
    "#Notice the describe fucntion does not give us categorical data counts\n",
    "#(i.e Male and Female counts), so we will have to find this another way.\n"
   ]
  },
  {
   "cell_type": "code",
   "execution_count": 5,
   "metadata": {},
   "outputs": [
    {
     "ename": "SyntaxError",
     "evalue": "invalid syntax (<ipython-input-5-2f0fa0add3aa>, line 1)",
     "output_type": "error",
     "traceback": [
      "\u001b[1;36m  File \u001b[1;32m\"<ipython-input-5-2f0fa0add3aa>\"\u001b[1;36m, line \u001b[1;32m1\u001b[0m\n\u001b[1;33m    pip install pandas-profiling\u001b[0m\n\u001b[1;37m              ^\u001b[0m\n\u001b[1;31mSyntaxError\u001b[0m\u001b[1;31m:\u001b[0m invalid syntax\n"
     ]
    }
   ],
   "source": [
    "pip install pandas-profiling\n",
    "import pandas_profiling\n",
    "pandas_profiling.ProfileReport(df)"
   ]
  },
  {
   "cell_type": "code",
   "execution_count": null,
   "metadata": {
    "collapsed": true,
    "scrolled": false
   },
   "outputs": [],
   "source": [
    "print(df['gender'].value_counts())\n",
    "#Luckily for us, there are 65 patients of each sex! "
   ]
  },
  {
   "cell_type": "markdown",
   "metadata": {},
   "source": [
    "##Now to perform some EDA for visualization of if body temperature is normal (gaussian)!"
   ]
  },
  {
   "cell_type": "code",
   "execution_count": null,
   "metadata": {
    "collapsed": true
   },
   "outputs": [],
   "source": [
    "plt.plot(df['temperature'])\n",
    "plt.show()\n",
    "#First we simply plot all patients vs body temperature\n",
    "\n",
    "print(np.mean(df['temperature']))"
   ]
  },
  {
   "cell_type": "markdown",
   "metadata": {},
   "source": [
    "## With this we see that the distribution of body temperatures does not quite look normal!\n",
    "### In particular we see there is a lot of data outside the curve, most notably at about  98.8 degrees!"
   ]
  },
  {
   "cell_type": "code",
   "execution_count": null,
   "metadata": {
    "collapsed": true
   },
   "outputs": [],
   "source": [
    "import matplotlib.mlab as mlab\n",
    "import math\n",
    "\n",
    "plt.hist(df['temperature'],bins=25, normed = True)\n",
    "mu = np.mean(df['temperature'])\n",
    "variance = np.var(df['temperature'])\n",
    "sigma = math.sqrt(variance)\n",
    "x = np.linspace(mu - 3*sigma, mu + 3*sigma, 130)\n",
    "plt.plot(x,mlab.normpdf(x, mu, sigma))\n",
    "plt.xlabel('Body Temperature Deg F')\n",
    "plt.ylabel('Frequency')\n",
    "plt.show()"
   ]
  },
  {
   "cell_type": "markdown",
   "metadata": {},
   "source": [
    "## Question 2 - Is the sample size large? Are the observations independent?\n",
    "\n",
    "### The sample size is 130, which should be sufficiently large for our purposes (n >= 30 common rule of thumb).  Asssuming all patients are in fact different people, we must assume all observations are independent."
   ]
  },
  {
   "cell_type": "markdown",
   "metadata": {},
   "source": [
    "## Is the true population mean really 98.6 degrees F?\n",
    "\n",
    "### See above for describe(), true pop mean is 98.2 Deg F\n",
    "\n",
    "### Would you use a one-sample or two-sample test? Why?\n",
    "\n",
    "### Two sample t-test may be used as all observations are independent of each other.\n",
    "\n",
    "## In this situation, is it appropriate to use the  t  or  z  statistic?\n",
    "\n",
    "### The z statistic as our sample size is sufficiently large and we know our standard deviation.\n",
    "\n",
    "\n",
    "\n",
    "Now try using the other test. How is the result be different? Why?"
   ]
  },
  {
   "cell_type": "code",
   "execution_count": null,
   "metadata": {},
   "outputs": [],
   "source": [
    "print(df.drop.sample(5))\n",
    "print(df['temperature'].sample(30))\n"
   ]
  },
  {
   "cell_type": "code",
   "execution_count": null,
   "metadata": {
    "scrolled": true
   },
   "outputs": [],
   "source": [
    "import scipy\n",
    "from scipy import stats\n",
    "\n",
    "t_test = scipy.stats.ttest_ind(df['temperature'].sample(30),df['temperature'].sample(30))\n",
    "    \n",
    "print(t_test)"
   ]
  },
  {
   "cell_type": "code",
   "execution_count": null,
   "metadata": {},
   "outputs": [],
   "source": [
    "import statsmodels.api as sm\n",
    "\n",
    "z_test = CompareMeans.ztest_ind(df['temperature'].sample(30),df['temperature'].sample(30),alternative='two-sided', usevar='pooled', value=0)\n",
    "\n",
    "print(z_test)"
   ]
  },
  {
   "cell_type": "markdown",
   "metadata": {
    "collapsed": true
   },
   "source": [
    "## #5.At what temperature should we consider someone's temperature to be \"abnormal\"?\n",
    "## Start by computing the margin of error and confidence interval."
   ]
  },
  {
   "cell_type": "code",
   "execution_count": null,
   "metadata": {
    "scrolled": true
   },
   "outputs": [],
   "source": [
    "zscore = scipy.stats.zscore(df['temperature'], axis=0, ddof=0)\n",
    "print(zscore)"
   ]
  },
  {
   "cell_type": "code",
   "execution_count": null,
   "metadata": {},
   "outputs": [],
   "source": [
    "standard_error = scipy.stats.sem(df['temperature'], axis=0, ddof=1, nan_policy='propagate')\n",
    "\n",
    "print(\"standard error is \" +  str(standard_error))\n",
    "\n",
    "#Perhaps z = 2 should be conisdered abnormally high? encomapssing 97% under normal conditions\n",
    "\n",
    "\n",
    "print(\"standard deviation is \" +  str(np.std(df['temperature'])))"
   ]
  },
  {
   "cell_type": "markdown",
   "metadata": {
    "collapsed": true
   },
   "source": [
    "## Is there a significant difference between males and females in normal temperature?\n",
    "### What test did you use and why?\n",
    "### Write a story with your conclusion in the context of the original problem"
   ]
  },
  {
   "cell_type": "code",
   "execution_count": 31,
   "metadata": {},
   "outputs": [
    {
     "name": "stdout",
     "output_type": "stream",
     "text": [
      "average male temp is 98.2492307692\n",
      "average male temp is 0.730357778905\n",
      "average female temp is 98.2492307692\n",
      "average female temp is 0.730357778905\n"
     ]
    }
   ],
   "source": [
    "#Male temps\n",
    "dfm = []\n",
    "\n",
    "for peep in df['gender']:\n",
    "    #print(peep)\n",
    "    if peep == 'M':\n",
    "        dfm.append(df['temperature'])\n",
    "\n",
    "print(\"average male temp is \" +  str(np.average(dfm)))\n",
    "print(\"average male temp is \" +  str(np.std(dfm)))\n",
    "\n",
    "#Female temps\n",
    "dff = []\n",
    "\n",
    "for peep in df['gender']:\n",
    "    #print(peep)\n",
    "    if peep == 'F':\n",
    "        dff.append(df['temperature'])\n",
    "\n",
    "print(\"average female temp is \" +  str(np.average(dff)))\n",
    "print(\"average female temp is \" +  str(np.std(dff)))\n",
    "\n",
    "## There is no difference between male and female temperature -- this can be seen visually (numbers are same, this dataset must have been constructed as such...)\n",
    "\n"
   ]
  },
  {
   "cell_type": "code",
   "execution_count": null,
   "metadata": {
    "collapsed": true
   },
   "outputs": [],
   "source": []
  }
 ],
 "metadata": {
  "kernelspec": {
   "display_name": "Python 3",
   "language": "python",
   "name": "python3"
  },
  "language_info": {
   "codemirror_mode": {
    "name": "ipython",
    "version": 3
   },
   "file_extension": ".py",
   "mimetype": "text/x-python",
   "name": "python",
   "nbconvert_exporter": "python",
   "pygments_lexer": "ipython3",
   "version": "3.6.1"
  }
 },
 "nbformat": 4,
 "nbformat_minor": 1
}
